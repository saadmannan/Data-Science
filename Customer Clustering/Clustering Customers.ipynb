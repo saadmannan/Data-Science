{
 "cells": [
  {
   "cell_type": "code",
   "execution_count": 1,
   "metadata": {},
   "outputs": [],
   "source": [
    "import os \n",
    "path = 'D:\\Data Science\\Customer Clustering'\n",
    "os.chdir(path)"
   ]
  },
  {
   "cell_type": "code",
   "execution_count": 2,
   "metadata": {},
   "outputs": [],
   "source": [
    "import pandas as pd\n",
    "import numpy as np\n",
    "import matplotlib.pyplot as plt"
   ]
  },
  {
   "cell_type": "code",
   "execution_count": 4,
   "metadata": {},
   "outputs": [
    {
     "data": {
      "text/html": [
       "<div>\n",
       "<style scoped>\n",
       "    .dataframe tbody tr th:only-of-type {\n",
       "        vertical-align: middle;\n",
       "    }\n",
       "\n",
       "    .dataframe tbody tr th {\n",
       "        vertical-align: top;\n",
       "    }\n",
       "\n",
       "    .dataframe thead th {\n",
       "        text-align: right;\n",
       "    }\n",
       "</style>\n",
       "<table border=\"1\" class=\"dataframe\">\n",
       "  <thead>\n",
       "    <tr style=\"text-align: right;\">\n",
       "      <th></th>\n",
       "      <th>InvoiceNo</th>\n",
       "      <th>StockCode</th>\n",
       "      <th>Description</th>\n",
       "      <th>Quantity</th>\n",
       "      <th>InvoiceDate</th>\n",
       "      <th>UnitPrice</th>\n",
       "      <th>CustomerID</th>\n",
       "      <th>Country</th>\n",
       "    </tr>\n",
       "  </thead>\n",
       "  <tbody>\n",
       "    <tr>\n",
       "      <th>0</th>\n",
       "      <td>536365</td>\n",
       "      <td>85123A</td>\n",
       "      <td>WHITE HANGING HEART T-LIGHT HOLDER</td>\n",
       "      <td>6</td>\n",
       "      <td>12-01-10 8:26</td>\n",
       "      <td>2.55</td>\n",
       "      <td>17850.0</td>\n",
       "      <td>United Kingdom</td>\n",
       "    </tr>\n",
       "    <tr>\n",
       "      <th>1</th>\n",
       "      <td>536365</td>\n",
       "      <td>71053</td>\n",
       "      <td>WHITE METAL LANTERN</td>\n",
       "      <td>6</td>\n",
       "      <td>12-01-10 8:26</td>\n",
       "      <td>3.39</td>\n",
       "      <td>17850.0</td>\n",
       "      <td>United Kingdom</td>\n",
       "    </tr>\n",
       "    <tr>\n",
       "      <th>2</th>\n",
       "      <td>536365</td>\n",
       "      <td>84406B</td>\n",
       "      <td>CREAM CUPID HEARTS COAT HANGER</td>\n",
       "      <td>8</td>\n",
       "      <td>12-01-10 8:26</td>\n",
       "      <td>2.75</td>\n",
       "      <td>17850.0</td>\n",
       "      <td>United Kingdom</td>\n",
       "    </tr>\n",
       "    <tr>\n",
       "      <th>3</th>\n",
       "      <td>536365</td>\n",
       "      <td>84029G</td>\n",
       "      <td>KNITTED UNION FLAG HOT WATER BOTTLE</td>\n",
       "      <td>6</td>\n",
       "      <td>12-01-10 8:26</td>\n",
       "      <td>3.39</td>\n",
       "      <td>17850.0</td>\n",
       "      <td>United Kingdom</td>\n",
       "    </tr>\n",
       "    <tr>\n",
       "      <th>4</th>\n",
       "      <td>536365</td>\n",
       "      <td>84029E</td>\n",
       "      <td>RED WOOLLY HOTTIE WHITE HEART.</td>\n",
       "      <td>6</td>\n",
       "      <td>12-01-10 8:26</td>\n",
       "      <td>3.39</td>\n",
       "      <td>17850.0</td>\n",
       "      <td>United Kingdom</td>\n",
       "    </tr>\n",
       "  </tbody>\n",
       "</table>\n",
       "</div>"
      ],
      "text/plain": [
       "  InvoiceNo StockCode                          Description  Quantity  \\\n",
       "0    536365    85123A   WHITE HANGING HEART T-LIGHT HOLDER         6   \n",
       "1    536365     71053                  WHITE METAL LANTERN         6   \n",
       "2    536365    84406B       CREAM CUPID HEARTS COAT HANGER         8   \n",
       "3    536365    84029G  KNITTED UNION FLAG HOT WATER BOTTLE         6   \n",
       "4    536365    84029E       RED WOOLLY HOTTIE WHITE HEART.         6   \n",
       "\n",
       "     InvoiceDate  UnitPrice  CustomerID         Country  \n",
       "0  12-01-10 8:26       2.55     17850.0  United Kingdom  \n",
       "1  12-01-10 8:26       3.39     17850.0  United Kingdom  \n",
       "2  12-01-10 8:26       2.75     17850.0  United Kingdom  \n",
       "3  12-01-10 8:26       3.39     17850.0  United Kingdom  \n",
       "4  12-01-10 8:26       3.39     17850.0  United Kingdom  "
      ]
     },
     "execution_count": 4,
     "metadata": {},
     "output_type": "execute_result"
    }
   ],
   "source": [
    "dataset=pd.read_csv(\"data.csv\",encoding = \"ISO-8859-1\")\n",
    "dataset.head()"
   ]
  },
  {
   "cell_type": "code",
   "execution_count": 5,
   "metadata": {},
   "outputs": [
    {
     "data": {
      "text/plain": [
       "(541909, 8)"
      ]
     },
     "execution_count": 5,
     "metadata": {},
     "output_type": "execute_result"
    }
   ],
   "source": [
    "dataset.shape"
   ]
  },
  {
   "cell_type": "code",
   "execution_count": 21,
   "metadata": {},
   "outputs": [
    {
     "name": "stdout",
     "output_type": "stream",
     "text": [
      "             0\n",
      "InvoiceNo    0\n",
      "StockCode    0\n",
      "Description  0\n",
      "Quantity     0\n",
      "InvoiceDate  0\n",
      "UnitPrice    0\n",
      "CustomerID   0\n",
      "Country      0\n"
     ]
    }
   ],
   "source": [
    "#Removing missing values based on  CustomerID.\n",
    "dataset.dropna(axis = 0, subset =['CustomerID'], inplace = True)\n",
    "dataset.shape \n",
    "print (pd.DataFrame(dataset.isnull().sum()))"
   ]
  },
  {
   "cell_type": "code",
   "execution_count": 19,
   "metadata": {},
   "outputs": [
    {
     "name": "stdout",
     "output_type": "stream",
     "text": [
      "4339\n"
     ]
    }
   ],
   "source": [
    "#Removing Cancelled orders\n",
    "dataset = dataset[(dataset.InvoiceNo).apply(lambda x:( 'C' not in x))]\n",
    "dataset.shape   \n",
    "#Grouping customers based on their CustomerID\n",
    "df_customerid_groups=dataset.groupby(\"CustomerID\")\n",
    "print (len((df_customerid_groups.groups))) "
   ]
  },
  {
   "cell_type": "code",
   "execution_count": 8,
   "metadata": {},
   "outputs": [
    {
     "data": {
      "text/plain": [
       "(4339, 3)"
      ]
     },
     "execution_count": 8,
     "metadata": {},
     "output_type": "execute_result"
    }
   ],
   "source": [
    "# Creating new DataFrame\n",
    "df_cluster=pd.DataFrame(columns=['Quantity','UnitPrice','CustomerID'])\n",
    "count=0\n",
    "for k,v in (df_customerid_groups):\n",
    "    df_cluster.loc[count] = [(v['Quantity'].sum()), v['UnitPrice'].sum(), k]\n",
    "    count+=1\n",
    "df_cluster.shape"
   ]
  },
  {
   "cell_type": "code",
   "execution_count": 20,
   "metadata": {},
   "outputs": [
    {
     "name": "stdout",
     "output_type": "stream",
     "text": [
      "      Quantity  UnitPrice  CustomerID\n",
      "0      74215.0       1.04     12346.0\n",
      "1       2458.0     481.21     12347.0\n",
      "2       2341.0     178.71     12348.0\n",
      "3        631.0     605.10     12349.0\n",
      "4        197.0      65.30     12350.0\n",
      "5        536.0    1354.11     12352.0\n",
      "6         20.0      24.30     12353.0\n",
      "7        530.0     261.22     12354.0\n",
      "8        240.0      54.65     12355.0\n",
      "9       1591.0     188.87     12356.0\n",
      "10      2708.0     438.67     12357.0\n",
      "11       248.0     157.21     12358.0\n",
      "12      1622.0    2137.86     12359.0\n",
      "13      1165.0     457.91     12360.0\n",
      "14        91.0      33.35     12361.0\n",
      "15      2229.0    1048.29     12362.0\n",
      "16       408.0      53.17     12363.0\n",
      "17      1506.0     162.37     12364.0\n",
      "18       174.0     377.31     12365.0\n",
      "19       173.0      35.20     12367.0\n",
      "20      2353.0     467.65     12370.0\n",
      "21       591.0     244.08     12371.0\n",
      "22       794.0     156.07     12372.0\n",
      "23       197.0      64.15     12373.0\n",
      "24       342.0     139.25     12374.0\n",
      "25       178.0     117.52     12375.0\n",
      "26       944.0     209.35     12377.0\n",
      "27      2529.0     656.44     12378.0\n",
      "28       407.0     114.65     12379.0\n",
      "29      1127.0     351.38     12380.0\n",
      "...        ...        ...         ...\n",
      "4309    1017.0     255.83     18242.0\n",
      "4310    1788.0     452.27     18245.0\n",
      "4311     166.0      18.84     18246.0\n",
      "4312     511.0     192.97     18248.0\n",
      "4313     128.0      12.83     18249.0\n",
      "4314     199.0      79.92     18250.0\n",
      "4315    7824.0      12.35     18251.0\n",
      "4316     239.0     306.65     18252.0\n",
      "4317      74.0      10.30     18255.0\n",
      "4318    1041.0     401.63     18257.0\n",
      "4319     714.0     136.90     18259.0\n",
      "4320    1478.0     469.94     18260.0\n",
      "4321     146.0      64.74     18261.0\n",
      "4322     182.0      14.60     18262.0\n",
      "4323    1468.0      58.53     18263.0\n",
      "4324     311.0     241.34     18265.0\n",
      "4325       2.0      12.75     18268.0\n",
      "4326      76.0      22.15     18269.0\n",
      "4327     101.0      40.40     18270.0\n",
      "4328    2050.0     380.91     18272.0\n",
      "4329      80.0       7.65     18273.0\n",
      "4330      88.0      40.39     18274.0\n",
      "4331     186.0      34.75     18276.0\n",
      "4332      68.0      25.13     18277.0\n",
      "4333      66.0      29.55     18278.0\n",
      "4334      45.0      47.65     18280.0\n",
      "4335      54.0      39.36     18281.0\n",
      "4336     103.0      62.39     18282.0\n",
      "4337    1397.0    1220.93     18283.0\n",
      "4338    1586.0     104.55     18287.0\n",
      "\n",
      "[4339 rows x 3 columns]\n"
     ]
    }
   ],
   "source": [
    "print(df_cluster)"
   ]
  },
  {
   "cell_type": "code",
   "execution_count": 9,
   "metadata": {},
   "outputs": [],
   "source": [
    "#Applying K-Means Clustering Algorithm\n",
    "#Using only 'Quantity','UnitPrice' columns to cluser \n",
    "X = df_cluster.iloc[:, [0, 1]].values"
   ]
  },
  {
   "cell_type": "code",
   "execution_count": 10,
   "metadata": {},
   "outputs": [],
   "source": [
    "# Feature Scaling\n",
    "from sklearn.preprocessing import StandardScaler\n",
    "sc_X = StandardScaler()\n",
    "X= sc_X.fit_transform(X)"
   ]
  },
  {
   "cell_type": "code",
   "execution_count": 11,
   "metadata": {},
   "outputs": [],
   "source": [
    "#Using the Elbow method to find the optical number of clusters\n",
    "from sklearn.cluster import KMeans\n",
    "wcss = [] #With in cluster sum of squers(Inertia)"
   ]
  },
  {
   "cell_type": "code",
   "execution_count": 12,
   "metadata": {},
   "outputs": [
    {
     "data": {
      "image/png": "[encoded data removed]",
      "text/plain": [
       "<Figure size 432x288 with 1 Axes>"
      ]
     },
     "metadata": {
      "needs_background": "light"
     },
     "output_type": "display_data"
    }
   ],
   "source": [
    "for i in range(1,11):\n",
    "    kmeans = KMeans(n_clusters = i, init ='k-means++',max_iter=300,n_init=10)\n",
    "    kmeans.fit(X)\n",
    "    wcss.append(kmeans.inertia_)\n",
    "plt.plot(range(1,11) , wcss)\n",
    "plt.title('The Elbow Method')\n",
    "plt.xlabel('Number Of Customer Clusters(customer type clusters)')\n",
    "plt.ylabel('With in cluster sum of squers(WCSS)')\n",
    "plt.show()"
   ]
  },
  {
   "cell_type": "code",
   "execution_count": 13,
   "metadata": {},
   "outputs": [],
   "source": [
    "#From the plot we can see that at 3 distortion goes rapidly so n_clusters=3\n",
    "# Fitting K-Means to the dataset\n",
    "kmeans = KMeans(n_clusters = 3, init = 'k-means++')\n",
    "y_kmeans = kmeans.fit_predict(X)"
   ]
  },
  {
   "cell_type": "code",
   "execution_count": 14,
   "metadata": {},
   "outputs": [
    {
     "data": {
      "image/png": "[encoded data removed]",
      "text/plain": [
       "<Figure size 432x288 with 1 Axes>"
      ]
     },
     "metadata": {
      "needs_background": "light"
     },
     "output_type": "display_data"
    }
   ],
   "source": [
    "# Visualising the clusters\n",
    "plt.scatter(X[y_kmeans == 0, 0], X[y_kmeans == 0, 1], s = 50, c = 'red', label = 'Customer Type 1')\n",
    "plt.scatter(X[y_kmeans == 1, 0], X[y_kmeans == 1, 1], s = 50, c = 'blue', label = 'Customer Type 2')\n",
    "plt.scatter(X[y_kmeans == 2, 0], X[y_kmeans == 2, 1], s = 50, c = 'green', label = 'Customer Type 3')\n",
    "plt.scatter(kmeans.cluster_centers_[:, 0], kmeans.cluster_centers_[:, 1], s = 100, c = 'yellow', label = 'Centroids')\n",
    "plt.title('Type Of Customers(customer type clusters)')\n",
    "plt.xlabel('Number of items Purchased(Quantity)')\n",
    "plt.ylabel('Product price per unit in sterling(Unit Price)')\n",
    "plt.legend()\n",
    "plt.show()"
   ]
  },
  {
   "cell_type": "code",
   "execution_count": null,
   "metadata": {},
   "outputs": [],
   "source": []
  }
 ],
 "metadata": {
  "kernelspec": {
   "display_name": "Python 3",
   "language": "python",
   "name": "python3"
  },
  "language_info": {
   "codemirror_mode": {
    "name": "ipython",
    "version": 3
   },
   "file_extension": ".py",
   "mimetype": "text/x-python",
   "name": "python",
   "nbconvert_exporter": "python",
   "pygments_lexer": "ipython3",
   "version": "3.7.3"
  }
 },
 "nbformat": 4,
 "nbformat_minor": 2
}
